{
 "cells": [
  {
   "cell_type": "markdown",
   "id": "entertaining-finger",
   "metadata": {},
   "source": [
    "Quick start introduction notebook\n",
    "\n",
    "download an image from internet\n",
    "\n",
    "pass to the model and check the prediction"
   ]
  },
  {
   "cell_type": "code",
   "execution_count": 1,
   "id": "antique-wedding",
   "metadata": {},
   "outputs": [
    {
     "ename": "ModuleNotFoundError",
     "evalue": "No module named 'cv2'",
     "output_type": "error",
     "traceback": [
      "\u001b[0;31m---------------------------------------------------------------------------\u001b[0m",
      "\u001b[0;31mModuleNotFoundError\u001b[0m                       Traceback (most recent call last)",
      "\u001b[0;32m<ipython-input-1-400c160a5948>\u001b[0m in \u001b[0;36m<module>\u001b[0;34m\u001b[0m\n\u001b[0;32m----> 1\u001b[0;31m \u001b[0;32mimport\u001b[0m \u001b[0mcv2\u001b[0m\u001b[0;34m\u001b[0m\u001b[0;34m\u001b[0m\u001b[0m\n\u001b[0m\u001b[1;32m      2\u001b[0m \u001b[0;34m\u001b[0m\u001b[0m\n\u001b[1;32m      3\u001b[0m \u001b[0;32mfrom\u001b[0m \u001b[0mmatplotlib\u001b[0m \u001b[0;32mimport\u001b[0m \u001b[0mpyplot\u001b[0m \u001b[0;32mas\u001b[0m \u001b[0mplt\u001b[0m\u001b[0;34m\u001b[0m\u001b[0;34m\u001b[0m\u001b[0m\n\u001b[1;32m      4\u001b[0m \u001b[0;34m\u001b[0m\u001b[0m\n\u001b[1;32m      5\u001b[0m \u001b[0mim_gray\u001b[0m \u001b[0;34m=\u001b[0m \u001b[0mcv2\u001b[0m\u001b[0;34m.\u001b[0m\u001b[0mimread\u001b[0m\u001b[0;34m(\u001b[0m\u001b[0;34m'bag.jpg'\u001b[0m\u001b[0;34m,\u001b[0m \u001b[0mcv2\u001b[0m\u001b[0;34m.\u001b[0m\u001b[0mIMREAD_GRAYSCALE\u001b[0m\u001b[0;34m)\u001b[0m\u001b[0;34m\u001b[0m\u001b[0;34m\u001b[0m\u001b[0m\n",
      "\u001b[0;31mModuleNotFoundError\u001b[0m: No module named 'cv2'"
     ]
    }
   ],
   "source": [
    "import cv2\n",
    "\n",
    "from matplotlib import pyplot as plt\n",
    "\n",
    "im_gray = cv2.imread('bag.jpg', cv2.IMREAD_GRAYSCALE)\n",
    "\n",
    "(thresh, im_bw) = cv2.threshold(im_gray, 128, 255, cv2.THRESH_BINARY | cv2.THRESH_OTSU)\n",
    "\n",
    "thresh = 127\n",
    "\n",
    "img_bw = cv2.threshold(im_gray, thresh, 255, cv2.THRESH_BINARY)[1]\n",
    "\n",
    "img_bw = cv2.resize(img_bw, (28, 28))\n",
    "\n",
    "\n",
    "#Show the image with matplotlib\n",
    "\n",
    "plt.imshow(img_bw, cmap=\"gray\")\n",
    "\n",
    "print(type(im_gray),im_gray.shape,y)\n",
    "\n",
    "print(type(img_bw),img_bw.shape,y)\n",
    "\n",
    "\n",
    "img_bw_tensor = torch.from_numpy(img_bw)\n",
    "\n",
    "img_bw_tensor = img_bw_tensor.unsqueeze(0)\n",
    "\n",
    "img_bw_tensor = img_bw_tensor.type('torch.DoubleTensor')\n",
    "\n",
    "img_bw_tensor.to(device, dtype=torch.float32)\n",
    "\n",
    "print(type(img_bw_tensor),img_bw_tensor.shape,y)\n",
    "\n",
    "\n",
    "x, y = img_bw_tensor.float(), 8"
   ]
  },
  {
   "cell_type": "code",
   "execution_count": null,
   "id": "addressed-texas",
   "metadata": {},
   "outputs": [],
   "source": []
  }
 ],
 "metadata": {
  "kernelspec": {
   "display_name": "Python 3",
   "language": "python",
   "name": "python3"
  },
  "language_info": {
   "codemirror_mode": {
    "name": "ipython",
    "version": 3
   },
   "file_extension": ".py",
   "mimetype": "text/x-python",
   "name": "python",
   "nbconvert_exporter": "python",
   "pygments_lexer": "ipython3",
   "version": "3.7.4"
  }
 },
 "nbformat": 4,
 "nbformat_minor": 5
}
